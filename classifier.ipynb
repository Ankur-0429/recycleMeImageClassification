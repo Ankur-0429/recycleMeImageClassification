{
 "cells": [
  {
   "cell_type": "markdown",
   "id": "f5adafa0-3c22-4fcf-9321-c438d7330026",
   "metadata": {},
   "source": [
    "# 1. Setup And Load Data"
   ]
  },
  {
   "cell_type": "markdown",
   "id": "e8571a55-d8c9-47d6-b4ec-c84587b22c30",
   "metadata": {},
   "source": [
    "## 1.1 Install Dependencies and Setup"
   ]
  },
  {
   "cell_type": "code",
   "execution_count": null,
   "id": "6eb9de8e-662a-42b0-a158-a6e0dc9a5439",
   "metadata": {},
   "outputs": [],
   "source": []
  }
 ],
 "metadata": {
  "kernelspec": {
   "display_name": "Python 3 (ipykernel)",
   "language": "python",
   "name": "python3"
  },
  "language_info": {
   "codemirror_mode": {
    "name": "ipython",
    "version": 3
   },
   "file_extension": ".py",
   "mimetype": "text/x-python",
   "name": "python",
   "nbconvert_exporter": "python",
   "pygments_lexer": "ipython3",
   "version": "3.11.9"
  }
 },
 "nbformat": 4,
 "nbformat_minor": 5
}
