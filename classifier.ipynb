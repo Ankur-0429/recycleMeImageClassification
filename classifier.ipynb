{
 "cells": [
  {
   "cell_type": "markdown",
   "id": "f5adafa0-3c22-4fcf-9321-c438d7330026",
   "metadata": {},
   "source": [
    "# 1. Setup And Load Data"
   ]
  },
  {
   "cell_type": "code",
   "execution_count": null,
   "id": "6eb9de8e-662a-42b0-a158-a6e0dc9a5439",
   "metadata": {},
   "outputs": [],
   "source": [
    "import os\n",
    "import torch\n",
    "import torchvision\n",
    "import torchvision.transforms as transforms\n",
    "import json\n",
    "import matplotlib.pyplot as plt\n",
    "import matplotlib.patches as patches\n",
    "import numpy as np\n",
    "from PIL import Image\n",
    "from skimage.measure import find_contours\n",
    "from skimage.io import imread\n",
    "import random"
   ]
  },
  {
   "cell_type": "code",
   "execution_count": null,
   "id": "33212fe4",
   "metadata": {},
   "outputs": [],
   "source": [
    "device = torch.device(\"cpu\")\n",
    "if torch.cuda.is_available():\n",
    "    device = torch.device(\"cuda\")\n",
    "elif torch.backends.mps.is_built() and torch.backends.mps.is_available():\n",
    "    device = torch.device(\"mps\")\n",
    "print(device)"
   ]
  },
  {
   "cell_type": "markdown",
   "id": "d7cfab76",
   "metadata": {},
   "source": [
    "## Check if data is formated Correctly\n",
    "\n",
    "### You should see an image with its associated categorization and segmentations here"
   ]
  },
  {
   "cell_type": "code",
   "execution_count": null,
   "id": "40b23034",
   "metadata": {},
   "outputs": [],
   "source": [
    "with open('./data/annotations.json') as f:\n",
    "    data = json.load(f)\n",
    "\n",
    "def random_colors(N):\n",
    "    np.random.seed(1)\n",
    "    colors = np.random.rand(N, 3)\n",
    "    return colors\n",
    "\n",
    "def apply_mask(image, mask, color, alpha=0.5):\n",
    "    for c in range(3):\n",
    "        image[:, :, c] = np.where(mask == 1,\n",
    "                                  image[:, :, c] * (1 - alpha) + alpha * color[c] * 255,\n",
    "                                  image[:, :, c])\n",
    "    return image\n",
    "\n",
    "def find_contours(mask, level):\n",
    "    return find_contours(mask, level)\n",
    "\n",
    "def display_image_with_annotations(image_info, annotations, categories):\n",
    "    img = imread(\"./data/\" + image_info['file_name'])\n",
    "\n",
    "    _, ax = plt.subplots(1, figsize=(12, 12))\n",
    "    ax.imshow(img)\n",
    "\n",
    "    colors = random_colors(len(annotations))\n",
    "\n",
    "    for i, ann in enumerate(annotations):\n",
    "        if ann['image_id'] == image_info['id']:\n",
    "            bbox = ann['bbox']\n",
    "            rect = patches.Rectangle((bbox[0], bbox[1]), bbox[2], bbox[3], linewidth=2,\n",
    "                                     edgecolor=colors[i], facecolor='none')\n",
    "            ax.add_patch(rect)\n",
    "\n",
    "            for seg in ann['segmentation']:\n",
    "                seg = [seg[i:i+2] for i in range(0, len(seg), 2)]\n",
    "                poly = patches.Polygon(seg, linewidth=2, edgecolor=colors[i], facecolor='none')\n",
    "                ax.add_patch(poly)\n",
    "                    \n",
    "                mask = np.zeros((img.shape[0], img.shape[1]), dtype=np.uint8)\n",
    "                seg_np = np.array(seg, dtype=np.int32)\n",
    "                rr, cc = seg_np[:, 1], seg_np[:, 0]\n",
    "                rr = np.clip(rr, 0, img.shape[0] - 1)\n",
    "                cc = np.clip(cc, 0, img.shape[1] - 1)\n",
    "                mask[rr, cc] = 1\n",
    "                img = apply_mask(img, mask, colors[i])\n",
    "\n",
    "            category_id = ann['category_id']\n",
    "            category_name = next(cat['name'] for cat in categories if cat['id'] == category_id)\n",
    "            ax.text(bbox[0], bbox[1] - 2, category_name, color='w', fontsize=12, backgroundcolor=\"none\")\n",
    "    \n",
    "    ax.imshow(img)\n",
    "    plt.show()\n",
    "\n",
    "image_info = random.choice(data['images'])\n",
    "annotations = data['annotations']\n",
    "categories = data['categories']\n",
    "display_image_with_annotations(image_info, annotations, categories)\n"
   ]
  }
 ],
 "metadata": {
  "kernelspec": {
   "display_name": "Python 3 (ipykernel)",
   "language": "python",
   "name": "python3"
  },
  "language_info": {
   "codemirror_mode": {
    "name": "ipython",
    "version": 3
   },
   "file_extension": ".py",
   "mimetype": "text/x-python",
   "name": "python",
   "nbconvert_exporter": "python",
   "pygments_lexer": "ipython3",
   "version": "3.12.4"
  }
 },
 "nbformat": 4,
 "nbformat_minor": 5
}
